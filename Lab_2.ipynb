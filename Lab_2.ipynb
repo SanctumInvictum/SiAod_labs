{
 "cells": [
  {
   "cell_type": "markdown",
   "id": "fifteen-sailing",
   "metadata": {
    "id": "fifteen-sailing"
   },
   "source": [
    "# Лабораторная работа №2\n",
    "## Выполнил Соколов Юрий Александрович БВТ2105"
   ]
  },
  {
   "cell_type": "markdown",
   "id": "arctic-stocks",
   "metadata": {
    "id": "arctic-stocks"
   },
   "source": [
    "Реализовать следующие структуры данных:\n",
    "  \n",
    "● <b> Стек (stack): </b>  \n",
    "Операции для стека: \n",
    "<i> инициализация, проверка на пустоту, добавление нового элемента в начало, извлечение элемента из начала;  </i>  \n",
    "  \n",
    "● <b> Дек (двусторонняя очередь, deque):  </b>  \n",
    "Операции для дека: \n",
    "<i> инициализация, проверка на пустоту, добавление нового элемента в начало, добавление нового элемента в конец, извлечение элемента из начала, извлечение элемента из конца. </i>  \n",
    "  \n",
    "<i> Разработать программу обработки данных, содержащихся в заранее подготовленном txt-файле, в соответствии с заданиями, применив указанную в задании структуру данных. Результат работы программы вывести на экран и сохранить в отдельном txt-файле. </i>"
   ]
  },
  {
   "cell_type": "code",
   "execution_count": 2,
   "id": "0fe49c6a",
   "metadata": {
    "ExecuteTime": {
     "end_time": "2023-04-27T14:12:21.502130Z",
     "start_time": "2023-04-27T14:12:21.491420Z"
    }
   },
   "outputs": [
    {
     "name": "stdout",
     "output_type": "stream",
     "text": [
      "True\n",
      "[3, 2, 1]\n",
      "[2, 1]\n",
      "True\n",
      "[3, 2, 1]\n",
      "[3, 2, 1, 1, 2, 3]\n",
      "[2, 1, 1, 2, 3]\n",
      "3\n",
      "[2, 1, 1, 2]\n"
     ]
    }
   ],
   "source": [
    "class Stack:\n",
    "    def __init__(self):\n",
    "        self.stack = []\n",
    "    def isEmpty(self):\n",
    "        return self.stack == []\n",
    "    def insert(self, item):\n",
    "        self.stack.insert(0,item)\n",
    "    def pop(self):\n",
    "        return self.stack.pop(0)\n",
    "    def top(self):\n",
    "        return self.stack[0]\n",
    "\n",
    "class Deque:\n",
    "    def __init__(self):\n",
    "        self.deque = []\n",
    "    def isEmpty(self):\n",
    "        return self.deque == []\n",
    "    def insert(self, item):\n",
    "        self.deque.insert(0,item)\n",
    "    def pop(self):\n",
    "        return self.deque.pop(0)\n",
    "    def top(self):\n",
    "        return self.deque[0]\n",
    "    def insert_back(self, item):\n",
    "        self.deque.append(item)\n",
    "    def pop_back(self):\n",
    "        return self.deque.pop(len(self.deque)-1)\n",
    "    def top_back(self):\n",
    "        return self.deque[len(self.deque)-1]\n",
    "    \n",
    "# Инициализируем стек\n",
    "stack1 = Stack()\n",
    "# Проверим на пустоту\n",
    "print(stack1.isEmpty())\n",
    "# Добавим элементы в начало\n",
    "stack1.insert(1)\n",
    "stack1.insert(2)\n",
    "stack1.insert(3)\n",
    "print(stack1.stack)\n",
    "# Извлечем элемент из начала\n",
    "stack1.pop()\n",
    "print(stack1.stack)\n",
    "\n",
    "# Инициализируем дек\n",
    "deque1 = Deque()\n",
    "# Проверим на пустоту\n",
    "print(deque1.isEmpty())\n",
    "# Добавим элементы в начало\n",
    "deque1.insert(1)\n",
    "deque1.insert(2)\n",
    "deque1.insert(3)\n",
    "print(deque1.deque)\n",
    "# Добавим элементы в конец\n",
    "deque1.insert_back(1)\n",
    "deque1.insert_back(2)\n",
    "deque1.insert_back(3)\n",
    "print(deque1.deque)\n",
    "# Извлечем из начала\n",
    "deque1.pop()\n",
    "print(deque1.deque)\n",
    "# Извлечем из конца\n",
    "print(deque1.pop_back())\n",
    "print(deque1.deque)"
   ]
  },
  {
   "cell_type": "markdown",
   "id": "5d7edb08",
   "metadata": {
    "id": "5d7edb08",
    "scrolled": true
   },
   "source": [
    "### Задание №1\n",
    "Отсортировать строки файла, содержащие названия книг, в алфавитном порядке с использованием двух деков."
   ]
  },
  {
   "cell_type": "code",
   "execution_count": 25,
   "id": "17702ade",
   "metadata": {
    "ExecuteTime": {
     "end_time": "2023-04-03T14:21:27.619882Z",
     "start_time": "2023-04-03T14:21:27.613004Z"
    },
    "id": "17702ade"
   },
   "outputs": [
    {
     "name": "stdout",
     "output_type": "stream",
     "text": [
      "Babylon Recoiling\n",
      "Binary Tomorrow\n",
      "Paragon Forging\n",
      "The Circle of Tomorrow\n",
      "Zenith of Mars\n"
     ]
    }
   ],
   "source": [
    "inp = [\"Paragon Forging\", \"Zenith of Mars\", \"The Circle of Tomorrow\", \"Babylon Recoiling\", \"Binary Tomorrow\"]\n",
    "def deque_sort(book):\n",
    "    d1 = Deque()\n",
    "    d2 = Deque()\n",
    "    # Добавим в первый дек названия книг\n",
    "    for i in range(len(book)):\n",
    "        d1.insert(book[i])\n",
    "    # Пока не опустошим первый дек\n",
    "    while not d1.isEmpty():\n",
    "        # достаем из него книгу и запоминаем\n",
    "        unsort_book = d1.pop()\n",
    "        # Если во втором деке книга не на месте, то достаем ее из дека и вносим в конец первого дека\n",
    "        while not d2.isEmpty() and d2.top() < unsort_book:\n",
    "            d1.insert_back(d2.pop())\n",
    "        # Добавляем во второй дек изъятую книгу из первого\n",
    "        d2.insert(unsort_book)\n",
    "    # Печатаем\n",
    "    while(not d2.isEmpty()):\n",
    "        print(d2.pop())\n",
    "deque_sort(inp)"
   ]
  },
  {
   "cell_type": "markdown",
   "id": "49fbd2a0",
   "metadata": {
    "id": "49fbd2a0"
   },
   "source": [
    "### Задание №2\n",
    "Дек содержит последовательность символов для шифровки сообщений. Дан текстовый файл, содержащий зашифрованное сообщение. Пользуясь деком, расшифровать текст. \n",
    "Известно, что при шифровке каждый символ сообщения заменялся следующим за ним в деке по часовой стрелке через один."
   ]
  },
  {
   "cell_type": "code",
   "execution_count": 28,
   "id": "81cab7a8",
   "metadata": {
    "ExecuteTime": {
     "end_time": "2023-04-03T14:24:39.849275Z",
     "start_time": "2023-04-03T14:24:39.842587Z"
    },
    "id": "81cab7a8"
   },
   "outputs": [
    {
     "name": "stdout",
     "output_type": "stream",
     "text": [
      "['z', 'y', 'x', 'w', 'v', 'u', 't', 's', 'r', 'q', 'p', 'o', 'n', 'm', 'l', 'k', 'j', 'i', 'h', 'g', 'f', 'e', 'd', 'c', 'b', 'a']\n",
      "bruh cringe based\n"
     ]
    }
   ],
   "source": [
    "# Запишем алфавит в дек\n",
    "alphabet = list('abcdefghijklmnopqrstuvwxyz')\n",
    "d1 = Deque()\n",
    "for letter in alphabet:\n",
    "    d1.insert(letter)\n",
    "print(d1.deque)\n",
    "\n",
    "# Напишем функцию декодирования, которая в зависимости от ключа \n",
    "def decode(string, key):\n",
    "    # Создадим результирующую переменную\n",
    "    result = \"\"\n",
    "    # Для каждого символа в слове неравного пробелу, будем перебирать дек с алфавитом\n",
    "    for letter in string:\n",
    "        if letter != \" \":\n",
    "            # пока не дойдем до ситуации, когда первый символ в деке совпадает с символом слова\n",
    "            while letter != d1.top():\n",
    "                d1.insert_back(d1.pop())\n",
    "            # В этот момент выйдем из цикла и в соответствии с ключем, сдвинем алфавит до нужного\n",
    "            # для декодирования символа, запишем этот символ в результат декодирования\n",
    "            for i in range(key):\n",
    "                d1.insert_back(d1.pop())\n",
    "            result += d1.top()\n",
    "        else:\n",
    "            # и добавим все нужные пробелы\n",
    "            result += \" \"        \n",
    "    return result\n",
    "        \n",
    "text = \"dtwj etkpig dcugf\"\n",
    "key = 2\n",
    "print(decode(text, key))           \n"
   ]
  },
  {
   "cell_type": "markdown",
   "id": "c0894f47",
   "metadata": {
    "id": "c0894f47"
   },
   "source": [
    "### Задание №3\n",
    "Даны три стержня и n дисков различного размера. Диски можно надевать на стержни, образуя из них башни. Перенести n дисков со стержня А на стержень С, сохранив их первоначальный порядок. При переносе дисков необходимо соблюдать следующие правила:\n",
    "- на каждом шаге со стержня на стержень переносить только один диск;\n",
    "- диск нельзя помещать на диск меньшего размера;\n",
    "- для промежуточного хранения можно использовать стержень В.\n",
    "Реализовать алгоритм, используя три стека вместо стержней А, В, С. Информация о дисках хранится в исходном файле."
   ]
  },
  {
   "cell_type": "code",
   "execution_count": 6,
   "id": "9e91a9d4",
   "metadata": {
    "ExecuteTime": {
     "end_time": "2023-04-27T14:14:38.842860Z",
     "start_time": "2023-04-27T14:14:38.836980Z"
    },
    "id": "9e91a9d4"
   },
   "outputs": [
    {
     "name": "stdout",
     "output_type": "stream",
     "text": [
      "tower\n",
      "0\n",
      "0\n",
      "0\n",
      "0\n",
      "0\n",
      "tower\n",
      "0\n",
      "0\n",
      "0\n",
      "0\n",
      "0\n",
      "tower\n",
      "1\n",
      "22\n",
      "333\n",
      "4444\n",
      "55555\n"
     ]
    }
   ],
   "source": [
    "# Рекурсивно расставляем диски        \n",
    "def Hanoi_towers(n, source, destination, auxiliary):\n",
    "    if n == 1:\n",
    "        destination.insert(source.pop())\n",
    "        return\n",
    "    Hanoi_towers(n-1, source, auxiliary, destination)\n",
    "    Hanoi_towers(n-1, auxiliary, destination, source)\n",
    "    return \n",
    "\n",
    "def print_tower(n, A):\n",
    "    print(\"tower\")\n",
    "    if A.isEmpty():\n",
    "        for i in range(n):\n",
    "            print(0)\n",
    "    else:\n",
    "        while not A.isEmpty():\n",
    "            print(int(A.top())*str(A.pop()))\n",
    "n = 5\n",
    "stA = Stack() # Откуда перекладываем\n",
    "stB = Stack() # С помощью какого\n",
    "stC = Stack() # Куда перекладываем\n",
    "for i in range(n):\n",
    "        stA.insert(i+1) \n",
    "#print_tower(n, stA)\n",
    "#print_tower(n, stB)\n",
    "#print_tower(n, stC)\n",
    "for i in range(n):\n",
    "    Hanoi_towers(n-i,stA,stC,stB)\n",
    "print_tower(n, stA)\n",
    "print_tower(n, stB)\n",
    "print_tower(n, stC)\n"
   ]
  },
  {
   "cell_type": "markdown",
   "id": "e5b0be17",
   "metadata": {
    "id": "e5b0be17"
   },
   "source": [
    "### Задание №4\n",
    "Дан текстовый файл с программой на алгоритмическом языке. За один просмотр файла проверить баланс круглых скобок в тексте, используя стек."
   ]
  },
  {
   "cell_type": "code",
   "execution_count": 21,
   "id": "5b1df60a",
   "metadata": {
    "ExecuteTime": {
     "end_time": "2023-03-20T11:48:48.955127Z",
     "start_time": "2023-03-20T11:48:48.941561Z"
    },
    "id": "5b1df60a"
   },
   "outputs": [
    {
     "name": "stdout",
     "output_type": "stream",
     "text": [
      "Valid\n",
      "Invalid\n"
     ]
    }
   ],
   "source": [
    "data1 = \"[][]{}{{{[[{(())}]]}}}\"\n",
    "data2 = \"[)]\"\n",
    "def checkBraces(data):\n",
    "    stack = Stack()\n",
    "    # Запустим основной цикл\n",
    "    for i in range(len(data)):\n",
    "        # Проверим баланс фигурных скобок после появления закрывающей в стеке,\n",
    "        # если при появлении закрывающей скобки появляется открывающая, то очищаем\n",
    "        # стек от этих скобок\n",
    "        if data[i] == \"}\":\n",
    "            if not stack.isEmpty() and stack.top() == \"{\":\n",
    "                stack.pop()\n",
    "            else: \n",
    "                return \"Invalid\"\n",
    "        # квадратных\n",
    "        elif data[i] == \"]\":\n",
    "            if not stack.isEmpty() and stack.top() == \"[\":\n",
    "                stack.pop()\n",
    "            else: \n",
    "                return \"Invalid\"\n",
    "        # круглых\n",
    "        elif data[i] == \")\":\n",
    "            if not stack.isEmpty() and stack.top() == \"(\":\n",
    "                stack.pop()\n",
    "            else: \n",
    "                return \"Invalid\"\n",
    "        else:\n",
    "            #на первой итерации когда стек пустой, добавляем скобки\n",
    "            stack.insert(data[i])\n",
    "    # Если за время работы цикла все скобки очистятся из стека, то баланс сохранен\n",
    "    if stack.isEmpty(): \n",
    "        return \"Valid\"\n",
    "    else: \n",
    "        return \"Invalid\"\n",
    "\n",
    "print(checkBraces(data1))\n",
    "print(checkBraces(data2))"
   ]
  },
  {
   "cell_type": "markdown",
   "id": "c44cdd6b",
   "metadata": {
    "id": "c44cdd6b"
   },
   "source": [
    "### Задание №5\n",
    "Дан текстовый файл с программой на алгоритмическом языке. За один просмотр файла проверить баланс квадратных скобок в тексте, используя дек."
   ]
  },
  {
   "cell_type": "code",
   "execution_count": 5,
   "id": "36b8f400",
   "metadata": {
    "ExecuteTime": {
     "end_time": "2023-03-20T10:44:06.839584Z",
     "start_time": "2023-03-20T10:44:06.829842Z"
    },
    "id": "36b8f400"
   },
   "outputs": [
    {
     "name": "stdout",
     "output_type": "stream",
     "text": [
      "Valid\n",
      "Valid\n"
     ]
    }
   ],
   "source": [
    "data1 = \"[][]{}{{{[[{(())}]]}}}\"\n",
    "data2 = \"[)]\"\n",
    "def checkBraces(data):\n",
    "    deque = Deque()\n",
    "    for i in range(len(data)):\n",
    "        if data[i] == \"]\":\n",
    "            if not deque.isEmpty() and deque.top() == \"[\":\n",
    "                deque.pop()\n",
    "            else: \n",
    "                return \"Invalid\"\n",
    "        elif data[i] == \"[\":\n",
    "            deque.insert(data[i])\n",
    "    if deque.isEmpty(): \n",
    "        return \"Valid\"\n",
    "    else: \n",
    "        return \"Invalid\"\n",
    "\n",
    "print(checkBraces(data1))\n",
    "print(checkBraces(data2))"
   ]
  },
  {
   "cell_type": "markdown",
   "id": "59d13dc7",
   "metadata": {
    "id": "59d13dc7"
   },
   "source": [
    "### Задание №6\n",
    "Дан файл из символов. Используя стек, за один просмотр файла напечатать сначала все цифры, затем все буквы, и, наконец, все остальные символы, сохраняя исходный порядок в каждой группе символов."
   ]
  },
  {
   "cell_type": "code",
   "execution_count": 8,
   "id": "297e36c2",
   "metadata": {
    "ExecuteTime": {
     "end_time": "2023-03-20T11:03:09.482048Z",
     "start_time": "2023-03-20T11:03:09.469661Z"
    },
    "id": "297e36c2"
   },
   "outputs": [
    {
     "name": "stdout",
     "output_type": "stream",
     "text": [
      "3 2 6 5 3 4 5 0 2 3 4 2 4 0 6 y g r w g o l d k y h r r o t k y r # # @ ^ $ # "
     ]
    }
   ],
   "source": [
    "data = \"32y6grwg53old450k23##@^4yhrro24t0k$#6yr\"\n",
    "# функция для вывода элементов стека\n",
    "def printStack(stack):\n",
    "    while not stack.isEmpty():\n",
    "        print(stack.pop(), end=\" \")\n",
    "    return\n",
    "# занеся элементы в стек они будут в противоположном исходному порядке, поэтому реверсируем их\n",
    "def reverseStack(stack):\n",
    "    reverse = Stack()\n",
    "    while not stack.isEmpty():\n",
    "        reverse.insert(stack.pop())\n",
    "    return reverse\n",
    "\n",
    "def dividing(string):\n",
    "    # Задаем стеки для чисел, букв и символов\n",
    "    numbers = Stack()\n",
    "    letters = Stack()\n",
    "    other = Stack()\n",
    "    # В зависимости от символа закидываем в нужный стек\n",
    "    for char in string:\n",
    "        if char <= '9' and char >= '0':\n",
    "            numbers.insert(char)\n",
    "        elif char >= 'a' and char <= 'z' or char >= 'A' and char <= 'Z':\n",
    "            letters.insert(char)\n",
    "        else:\n",
    "            other.insert(char)\n",
    "    printStack(reverseStack(numbers))\n",
    "    printStack(reverseStack(letters))\n",
    "    printStack(reverseStack(other))\n",
    "\n",
    "dividing(data)"
   ]
  },
  {
   "cell_type": "markdown",
   "id": "973f68bd",
   "metadata": {
    "id": "973f68bd"
   },
   "source": [
    "### Задание №7\n",
    "Дан файл из целых чисел. Используя дек, за один просмотр файла напечатать сначала все отрицательные числа, затем все положительные числа, сохраняя исходный порядок в каждой группе."
   ]
  },
  {
   "cell_type": "code",
   "execution_count": 22,
   "id": "c56fad66",
   "metadata": {
    "ExecuteTime": {
     "end_time": "2023-03-20T11:49:46.443158Z",
     "start_time": "2023-03-20T11:49:46.433833Z"
    },
    "id": "c56fad66"
   },
   "outputs": [
    {
     "name": "stdout",
     "output_type": "stream",
     "text": [
      "-6 -432 -4 32 5 23 2 "
     ]
    }
   ],
   "source": [
    "data = \"32 5 -6 23 -432 -4 2\"\n",
    "# функция печати дека\n",
    "def printDeque(deque):\n",
    "    while not deque.isEmpty():\n",
    "        print(deque.pop(), end=\" \")\n",
    "    return\n",
    "# функция разделения на отрицательные и положительные числа\n",
    "def dividing(data):\n",
    "    # деки для чисел\n",
    "    positive = Deque()\n",
    "    negative = Deque()\n",
    "    # чтоб преобразовать символ к числу, уберем кавычки\n",
    "    array = data.split(\" \")\n",
    "    for striterator in array:\n",
    "        number = int(striterator)\n",
    "        if number <= 0:\n",
    "            negative.insert_back(striterator)\n",
    "        else:\n",
    "            positive.insert_back(striterator)\n",
    "    printDeque(negative)\n",
    "    printDeque(positive)\n",
    "\n",
    "dividing(data)"
   ]
  },
  {
   "cell_type": "markdown",
   "id": "b9228191",
   "metadata": {
    "id": "b9228191"
   },
   "source": [
    "### Задание №8\n",
    "Дан текстовый файл. Используя стек, сформировать новый текстовый файл, содержащий строки исходного файла, записанные в обратном порядке: первая строка становится последней, вторая – предпоследней и т.д."
   ]
  },
  {
   "cell_type": "code",
   "execution_count": 18,
   "id": "981fbdfe",
   "metadata": {
    "ExecuteTime": {
     "end_time": "2023-03-20T11:44:36.864709Z",
     "start_time": "2023-03-20T11:44:36.856266Z"
    },
    "id": "981fbdfe"
   },
   "outputs": [
    {
     "name": "stdout",
     "output_type": "stream",
     "text": [
      "#\n",
      "#\n",
      "3\n",
      "2\n",
      "k\n",
      "0\n",
      "5\n",
      "4\n",
      "d\n",
      "l\n",
      "o\n",
      "3\n",
      "5\n",
      "g\n",
      "w\n",
      "r\n",
      "g\n",
      "6\n",
      "y\n",
      "2\n",
      "3\n"
     ]
    }
   ],
   "source": [
    "data = []\n",
    "for i in range(21):\n",
    "    data.append(\"blah\"+str(i))\n",
    "\n",
    "st = Stack()\n",
    "for i in range(len(data)):\n",
    "    st.insert(inp[i])\n",
    "\n",
    "def printStack(stack):\n",
    "    while not stack.isEmpty():\n",
    "        print(stack.pop())\n",
    "    return\n",
    "\n",
    "printStack(st)"
   ]
  },
  {
   "cell_type": "markdown",
   "id": "rental-jerusalem",
   "metadata": {
    "id": "rental-jerusalem"
   },
   "source": [
    "### Вывод\n"
   ]
  },
  {
   "cell_type": "markdown",
   "id": "0c2b8899",
   "metadata": {
    "id": "0c2b8899"
   },
   "source": []
  }
 ],
 "metadata": {
  "colab": {
   "provenance": []
  },
  "kernelspec": {
   "display_name": "Python 3 (ipykernel)",
   "language": "python",
   "name": "python3"
  },
  "language_info": {
   "codemirror_mode": {
    "name": "ipython",
    "version": 3
   },
   "file_extension": ".py",
   "mimetype": "text/x-python",
   "name": "python",
   "nbconvert_exporter": "python",
   "pygments_lexer": "ipython3",
   "version": "3.11.1"
  }
 },
 "nbformat": 4,
 "nbformat_minor": 5
}
