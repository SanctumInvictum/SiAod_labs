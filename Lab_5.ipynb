{
 "cells": [
  {
   "cell_type": "markdown",
   "id": "db4b50f0",
   "metadata": {
    "id": "db4b50f0"
   },
   "source": [
    "# Лабораторная работа №5\n",
    "## Выполнил студент группы БВТ2105 Соколов Юрий Александрович"
   ]
  },
  {
   "cell_type": "markdown",
   "id": "annual-symbol",
   "metadata": {
    "id": "annual-symbol"
   },
   "source": [
    "### Оглавление\n",
    "1. [Задание 1](#Задание-№1)\n",
    "2. [Задание 2](#Задание-№2)\n",
    "4. [Вывод](#Вывод)"
   ]
  },
  {
   "cell_type": "markdown",
   "id": "independent-spirit",
   "metadata": {
    "id": "independent-spirit"
   },
   "source": [
    "> Дополнительные модули, использованные при выполнение лабораторной"
   ]
  },
  {
   "cell_type": "code",
   "execution_count": null,
   "id": "4839be2b",
   "metadata": {
    "id": "4839be2b"
   },
   "outputs": [],
   "source": [
    "# Необходим при замере скорости выполнения кода\n",
    "from datetime import datetime as t\n",
    "# Нужен для создания словаря в алг. Бойера-Мура\n",
    "from collections import defaultdict"
   ]
  },
  {
   "cell_type": "markdown",
   "id": "inclusive-motorcycle",
   "metadata": {
    "id": "inclusive-motorcycle"
   },
   "source": [
    "### Задание №1\n",
    "Реализовать методы поиска подстроки в строке. Добавить возможность ввода строки и подстроки с клавиатуры. Предусмотреть возможность существования пробела. Реализовать возможность выбора опции чувствительности или нечувствительности к регистру. Оценить время работы каждого алгоритма поиска и сравнить его со временем работы стандартной функции поиска, используемой в выбранном языке программирования."
   ]
  },
  {
   "cell_type": "markdown",
   "id": "interracial-communication",
   "metadata": {
    "id": "interracial-communication"
   },
   "source": [
    "#### Алгоритм Кнута-Морриса-Пратта"
   ]
  },
  {
   "cell_type": "code",
   "execution_count": null,
   "id": "presidential-level",
   "metadata": {
    "ExecuteTime": {
     "start_time": "2023-05-15T15:38:57.281Z"
    },
    "id": "presidential-level"
   },
   "outputs": [
    {
     "name": "stdout",
     "output_type": "stream",
     "text": [
      "-1\n",
      "9\n",
      "-1\n",
      "10\n",
      "Пользовательский ввод\n",
      "Введите текст в котором хотите найти подстроку\n"
     ]
    }
   ],
   "source": [
    "# Функция, возвращающая массив, который содержит максимальные длины суффиксов совпадающих с префиксами\n",
    "def getPreficksArr(text):\n",
    "    pArr = [0]*len(text)\n",
    "    j = 0\n",
    "    i = 1\n",
    "    while i < len(text):\n",
    "        if text[j] == text[i]:\n",
    "            pArr[i] = j+1\n",
    "            i += 1\n",
    "            j += 1\n",
    "        else:\n",
    "            if j == 0:\n",
    "                pArr[i] = 0;\n",
    "                i += 1\n",
    "            else:\n",
    "                j = pArr[j-1]\n",
    "\n",
    "    return pArr\n",
    "\n",
    "# Сам Алгоритм Кнута-Морриса-Пратта: принимает основную строку и подстроку которую ищем в основной\n",
    "# Если подстрока нашлась, возвращает индекс первого вхождения первой буквы подкстроки, иначе -1\n",
    "# По умолчанию алгоритм чувствителен к регистру, Если указать третим параметром True, станет нечувствителен\n",
    "def KMP(main, sub, mod = False):\n",
    "    # Реализация опции нечувтсвительности к регистру\n",
    "    if mod:\n",
    "        main = main.lower()\n",
    "        sub = sub.lower()\n",
    "    m = len(sub)\n",
    "    n = len(main)\n",
    "    # Получаем пи-массив\n",
    "    pArr = getPreficksArr(sub)\n",
    "    i = 0\n",
    "    j = 0\n",
    "    while i < n:\n",
    "        if main[i] == sub[j]:\n",
    "            i += 1\n",
    "            j += 1\n",
    "            if j == m:\n",
    "                return i-j\n",
    "        else:\n",
    "            if j > 0:\n",
    "                j = pArr[j-1]\n",
    "            else:\n",
    "                i += 1\n",
    "\n",
    "    if i == n and j != m:\n",
    "        return -1\n",
    "\n",
    "text1 = \"лилилось лилилась\"\n",
    "subtext1 = \"лиЛила\"\n",
    "text2 = \"В Четверг Четвертого Числа В Четыре с Четвертью Утра\"\n",
    "subtext2 = \"четверт\"\n",
    "print(KMP(text1, subtext1))\n",
    "print(KMP(text1, subtext1, 1))\n",
    "print(KMP(text2, subtext2))\n",
    "print(KMP(text2, subtext2, 1))\n",
    "print(\"Пользовательский ввод\\nВведите текст в котором хотите найти подстроку\")\n",
    "a = input()\n",
    "print(\"Введите подстроку\")\n",
    "b = input()\n",
    "print(KMP(a, b))"
   ]
  },
  {
   "cell_type": "markdown",
   "id": "downtown-option",
   "metadata": {
    "id": "downtown-option"
   },
   "source": [
    "#### Алгоритм Бойера-Мура"
   ]
  },
  {
   "cell_type": "code",
   "execution_count": null,
   "id": "respective-reggae",
   "metadata": {
    "ExecuteTime": {
     "start_time": "2023-05-15T15:40:57.539Z"
    },
    "id": "respective-reggae"
   },
   "outputs": [],
   "source": [
    "\n",
    "def BadChar(text):\n",
    "    d = {}\n",
    "    lenX = len(text)\n",
    "    for i in range(len(text)):\n",
    "        # сколько символов с правого края до этой буквы\n",
    "        d[ord(text[i])] = lenX - i\n",
    "    return d\n",
    "\n",
    "def boyerMurSearch(main, sub):\n",
    "    d = BadChar(sub)\n",
    "    print(d)\n",
    "    # k - проход по основной строке\n",
    "    # j - проход по искомой\n",
    "    # i - место начала прохода по основной строке\n",
    "    lenX = i = j = k = len(sub)\n",
    "    while j > 0 and i<=len(main):\n",
    "     # совпали, двигаемся дальше от конца к началу\n",
    "        if main[k-1] == sub[j-1]:\n",
    "            k -= 1\n",
    "            j -= 1\n",
    "        # иначе, продвигаемся по строке на d и начинаем с правого конца подстроки снова\n",
    "        else:\n",
    "            i += d[ord(main[i])]\n",
    "            j = lenX\n",
    "            k = i\n",
    "    if j <= 0:\n",
    "        return k\n",
    "    return None \n",
    "    \n",
    "text1 = \"метаданные\"\n",
    "subtext1 = \"данные\"\n",
    "text2 = \"abb bba\"\n",
    "subtext2 = \"ba\"\n",
    "print(boyerMurSearch(text1, subtext1))\n",
    "print(boyerMurSearch(text2, subtext2))\n",
    "#print(\"Пользовательский вввод\\nВведите текст в котором хотите найти подстроку\")\n",
    "#a = input()\n",
    "#print(\"Введите подстроку\")\n",
    "#b = input()\n",
    "#print(boyerMurSearch(a, b))"
   ]
  },
  {
   "cell_type": "markdown",
   "id": "hybrid-memorial",
   "metadata": {
    "id": "hybrid-memorial"
   },
   "source": [
    "### Задание №2\n",
    "Написать программу, определяющую, является ли данное\n",
    "расположение «решаемым», то есть можно ли из него за конечное число\n",
    "шагов перейти к правильному. Если это возможно, то необходимо найти хотя\n",
    "бы одно решение - последовательность движений, после которой числа будут\n",
    "расположены в правильном порядке.\n",
    "#### Входные данные: массив чисел, представляющий собой расстановку в\n",
    "Порядке «слева направо, сверху вниз». Число 0 обозначает пустое поле.\n",
    "Например, массив [1, 2, 3, 4, 5, 6, 7, 8, 9, 10, 11, 12, 13, 14, 15, 0] представляет\n",
    "собой «решенную» позицию элементов.\n",
    "#### Выходные данные: если решения нет, то функция должна вернуть\n",
    "Пустой массив []. Если решение есть, то необходимо представить решение —\n",
    "для каждого шага записывается номер передвигаемого на данном шаге\n",
    "элемента. "
   ]
  },
  {
   "cell_type": "code",
   "execution_count": 2,
   "id": "eleven-generic",
   "metadata": {
    "ExecuteTime": {
     "end_time": "2023-05-23T08:07:55.300191Z",
     "start_time": "2023-05-23T08:07:55.281963Z"
    },
    "id": "eleven-generic"
   },
   "outputs": [
    {
     "name": "stdout",
     "output_type": "stream",
     "text": [
      "[1, 2, 3, 4, 5, 6, 7, 8, 9, 0, 12, 15, 13, 10, 14, 11]\n",
      "True\n",
      "1 2 3 4 \n",
      "5 6 7 8 \n",
      "9 0 12 15 \n",
      "13 10 14 11 \n",
      "\n",
      "-------------------------\n",
      "1 2 3 4 \n",
      "5 6 7 8 \n",
      "9 10 12 15 \n",
      "13 0 14 11 \n",
      "\n",
      "-------------------------\n",
      "1 2 3 4 \n",
      "5 6 7 8 \n",
      "9 10 12 15 \n",
      "13 14 0 11 \n",
      "\n",
      "-------------------------\n",
      "1 2 3 4 \n",
      "5 6 7 8 \n",
      "9 10 12 15 \n",
      "13 14 11 0 \n",
      "\n",
      "-------------------------\n",
      "1 2 3 4 \n",
      "5 6 7 8 \n",
      "9 10 12 0 \n",
      "13 14 11 15 \n",
      "\n",
      "-------------------------\n",
      "1 2 3 4 \n",
      "5 6 7 8 \n",
      "9 10 0 12 \n",
      "13 14 11 15 \n",
      "\n",
      "-------------------------\n",
      "1 2 3 4 \n",
      "5 6 7 8 \n",
      "9 10 11 12 \n",
      "13 14 0 15 \n",
      "\n",
      "-------------------------\n",
      "1 2 3 4 \n",
      "5 6 7 8 \n",
      "9 10 11 12 \n",
      "13 14 15 0 \n",
      "\n"
     ]
    }
   ],
   "source": [
    "import random\n",
    "from heapq import heappop, heappush\n",
    "from math import sqrt\n",
    "\n",
    "# Функция находящая манхетенское расстояние между a и b в матрице размера n\n",
    "def manh_dst_matrix(a, b, n):\n",
    "    return abs(a % n - b % n) + abs(a // n - b // n)\n",
    "\n",
    "class Puzzle_graph:\n",
    "    def __str__(self):\n",
    "        \"\"\"\"\n",
    "        Метод преобразования списка в матрицу представленную строкой\n",
    "        \"\"\"\n",
    "        i = 0\n",
    "        sstr = \"\"\n",
    "        while i < self.size ** 2:\n",
    "            sstr += str(self.board_state[i]) + \" \"\n",
    "            if i % self.size == 3:\n",
    "                sstr += \"\\n\"\n",
    "            i += 1\n",
    "        return sstr\n",
    "    \n",
    "    def __init__(self, board_state, history=[]):\n",
    "        \"\"\"\"\n",
    "        Метод инициализации объекта головоломки,\n",
    "        \"\"\"\n",
    "        self.board_state = list(board_state)\n",
    "        self.size = int(sqrt(len(board_state)))\n",
    "        self.history = history\n",
    "        self.quad_size = int(self.size * self.size)\n",
    "    \n",
    "    def manh_dst(self):\n",
    "        \"\"\"\n",
    "        Метод, расчитывающий манхетенское расстояние для каждого числа в вершине графа\n",
    "        \"\"\"\n",
    "        dst = 0\n",
    "        for i in range(0, self.quad_size):\n",
    "            dst += manh_dst_matrix((self.board_state[i] - 1) % self.quad_size, i, self.size)\n",
    "        return int(dst)\n",
    "\n",
    "    def last_node(self):\n",
    "        \"\"\"\n",
    "        Метод преобразования массива в уникальную строку\n",
    "        \"\"\"\n",
    "        return str(self.board_state)\n",
    "    \n",
    "    def g(self):\n",
    "        return len(self.history)\n",
    "    \n",
    "    def f(self):\n",
    "        return self.manh_dst() + self.g()\n",
    "\n",
    "    def __lt__(self, other):\n",
    "        return self.f() < other.f()\n",
    "    \n",
    "    def get_neighbours(self):\n",
    "        \"\"\"\n",
    "        Метод получения соседних вершин\n",
    "        \"\"\"\n",
    "        neighs = []\n",
    "        zero_coord = self.board_state.index(0)\n",
    "\n",
    "        if zero_coord + 1 < self.size ** 2 and manh_dst_matrix(zero_coord, zero_coord + 1, self.size) == 1:\n",
    "            new_state = self.board_state.copy()\n",
    "            new_state[zero_coord], new_state[zero_coord + 1] = new_state[zero_coord + 1], new_state[zero_coord]\n",
    "            neighs.append(Puzzle_graph(new_state, self.history + [self]))\n",
    "            \n",
    "        if zero_coord - 1 >= 0 and manh_dst_matrix(zero_coord, zero_coord - 1, self.size) == 1:\n",
    "            new_state = self.board_state.copy()\n",
    "            new_state[zero_coord], new_state[zero_coord - 1] = new_state[zero_coord - 1], new_state[zero_coord]\n",
    "            neighs.append(Puzzle_graph(new_state, self.history + [self]))\n",
    "\n",
    "        if zero_coord + self.size < self.size ** 2 and manh_dst_matrix(zero_coord, zero_coord + self.size,self.size) == 1:\n",
    "            new_state = self.board_state.copy()\n",
    "            new_state[zero_coord], new_state[zero_coord + self.size] = new_state[zero_coord + self.size], new_state[\n",
    "                zero_coord]\n",
    "            neighs.append(Puzzle_graph(new_state, self.history + [self]))\n",
    "\n",
    "        if zero_coord - self.size >= 0 and manh_dst_matrix(zero_coord, zero_coord - self.size, self.size) == 1:\n",
    "            new_state = self.board_state.copy()\n",
    "            new_state[zero_coord], new_state[zero_coord - self.size] = new_state[zero_coord - self.size], new_state[\n",
    "                zero_coord]\n",
    "            neighs.append(Puzzle_graph(new_state, self.history + [self]))\n",
    "\n",
    "        return neighs\n",
    "    \n",
    "def a_star(start_node, goal_node):\n",
    "    node_hash = {} # Создаем хэш-таблицу узлов графа\n",
    "    nodes_queue = [] # Создаем приоретизированную очередь для узлов\n",
    "    heappush(nodes_queue, start_node)  # заполняем очередь начальным узлом(состоянием доски)\n",
    "    while nodes_queue:\n",
    "        cur_chain = heappop(nodes_queue) # достаем из очереди минимальный узел\n",
    "        cur_node = cur_chain.last_node() # Преобразуем узел представленный списком в строку для хэширования\n",
    "        if cur_node == goal_node:\n",
    "            return cur_chain\n",
    "        node_hash[cur_node] = cur_chain.g() # Хэшируем узел \n",
    "        for chain in cur_chain.get_neighbours(): # Получаем соседей\n",
    "            if chain.last_node() in node_hash: \n",
    "                if chain.g() >= node_hash[chain.last_node()]:\n",
    "                    continue\n",
    "                node_hash[chain.last_node()] = chain.g()\n",
    "            heappush(nodes_queue, chain)\n",
    "\n",
    "    raise Exception(\"No solution?!\")\n",
    "    \n",
    "\n",
    "# Функция, проверяющая можно ли решить пятнашки\n",
    "# Решение пятнашек существует тогда и только тогда, когда: N + K % 2 == 0\n",
    "# N = кол-во элементов, у которых i < j и при этом a[i] > a[j]\n",
    "# K - номер строки, в которой находится 0\n",
    "# Или же нам необходимо чтобы выполнялась четность перестановки\n",
    "def solving(arr_pos):\n",
    "    ans = 0\n",
    "    zero_string = 1\n",
    "    for i in range(len(arr_pos)-1):\n",
    "        for j in range(i+1, len(arr_pos)):\n",
    "            if arr_pos[j]!= 0 and arr_pos[i] > arr_pos[j]:\n",
    "                ans +=1\n",
    "            if arr_pos[j] == 0:\n",
    "                if 3 < j < 8:\n",
    "                    zero_string = 2\n",
    "                elif 7 < j < 12:\n",
    "                    zero_string = 3\n",
    "                else: \n",
    "                    zero_string = 4         \n",
    "    return (ans + zero_string) % 2 == 0\n",
    "\n",
    "\n",
    "def search_solution(arr_pos):\n",
    "    start = Puzzle_graph(arr_pos)\n",
    "    target = Puzzle_graph((1, 2, 3, 4, 5, 6, 7, 8, 9, 10, 11, 12, 13, 14, 15, 0))    \n",
    "    result = a_star(start, target.last_node()) \n",
    "    for node in result.history:\n",
    "        print(str(node))\n",
    "        print(\"-------------------------\")\n",
    "    print(str(result))\n",
    "# Создаем массив из 16 чисел\n",
    "arr = list(range(16))\n",
    "# Рандомно переставляем\n",
    "random.shuffle(arr)\n",
    "arr1 = [5,1,9,3,11,13,6,8,14,10,4,15,0,12,7,2]\n",
    "arr2 = [1,2,3,4,5,6,7,8,9,0,12,15,13,10,14,11]\n",
    "arr3 = [1,2,3,4,5,6,7,8,9,10,11,12,0,13,14,15]\n",
    "arr4 = [1,2,3,4,5,6,7,8,9,10,11,12,13,15,14,0]\n",
    "print(arr2)      \n",
    "print(solving(arr2)) \n",
    "# Если пятнашки решаемы, запускаем алгоритм поиска решения\n",
    "if solving(arr2):\n",
    "    search_solution(arr2)\n",
    "else:\n",
    "    print(\"[]\")\n",
    "    "
   ]
  },
  {
   "cell_type": "markdown",
   "id": "arbitrary-amazon",
   "metadata": {
    "id": "arbitrary-amazon"
   },
   "source": [
    "### Вывод"
   ]
  },
  {
   "cell_type": "markdown",
   "id": "71bc58bf",
   "metadata": {
    "id": "71bc58bf"
   },
   "source": []
  }
 ],
 "metadata": {
  "colab": {
   "provenance": []
  },
  "kernelspec": {
   "display_name": "Python 3 (ipykernel)",
   "language": "python",
   "name": "python3"
  },
  "language_info": {
   "codemirror_mode": {
    "name": "ipython",
    "version": 3
   },
   "file_extension": ".py",
   "mimetype": "text/x-python",
   "name": "python",
   "nbconvert_exporter": "python",
   "pygments_lexer": "ipython3",
   "version": "3.11.1"
  }
 },
 "nbformat": 4,
 "nbformat_minor": 5
}
